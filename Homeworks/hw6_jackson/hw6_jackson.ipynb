{
 "cells": [
  {
   "cell_type": "markdown",
   "metadata": {},
   "source": [
    "# Notebook for HW6\n",
    "### Name\n",
    "Jackson Huff\n",
    "### Assignment Number\n",
    "6\n",
    "### Date\n",
    "Sat Sep  2 04:52:58 PM EDT 2023\n",
    "\n",
    "# Problem 1"
   ]
  },
  {
   "cell_type": "code",
   "execution_count": 41,
   "metadata": {},
   "outputs": [
    {
     "name": "stdout",
     "output_type": "stream",
     "text": [
      "Problem 1:\n"
     ]
    },
    {
     "data": {
      "text/plain": [
       "<matplotlib.legend.Legend at 0x7fa4b7284c70>"
      ]
     },
     "execution_count": 41,
     "metadata": {},
     "output_type": "execute_result"
    },
    {
     "data": {
      "image/png": "[encoded data removed]",
      "text/plain": [
       "<Figure size 640x480 with 1 Axes>"
      ]
     },
     "metadata": {},
     "output_type": "display_data"
    }
   ],
   "source": [
    "print( 'Problem 1:' )\n",
    "\n",
    "import numpy as np\n",
    "from matplotlib import pyplot as plt\n",
    "\n",
    "# numpy array\n",
    "x = np.array([])\n",
    "\n",
    "min_element = 1\n",
    "\n",
    "max_element = 100.0\n",
    "\n",
    "increment = .5\n",
    "\n",
    "# fill x from 1 to max_element in increments of .5\n",
    "for i in np.arange(min_element, max_element + increment, increment):\n",
    "    x = np.append(x, i)\n",
    "\n",
    "#print( x )\n",
    "\n",
    "y = np.log10(x)\n",
    "\n",
    "#print( y )\n",
    "\n",
    "z = np.sqrt(x)\n",
    "\n",
    "# plot y vs x and z vs x on the same plot\n",
    "\n",
    "plt.plot(x, y, 'purple', label = 'log10(x)', linewidth = 3, linestyle = '--', marker = '.')\n",
    "plt.plot(x, z, 'green', label = 'sqrt(x)', linewidth = 3, linestyle = '--', marker = '.')\n",
    "plt.xlabel('x')\n",
    "plt.ylabel('y')\n",
    "plt.legend(loc = 'upper left')"
   ]
  },
  {
   "cell_type": "markdown",
   "metadata": {},
   "source": [
    "# Problem 2"
   ]
  },
  {
   "cell_type": "code",
   "execution_count": 42,
   "metadata": {},
   "outputs": [
    {
     "name": "stdout",
     "output_type": "stream",
     "text": [
      "Problem 2:\n",
      "[45 24  5 30  3 67 33 60 65 13 82 75 21 77 67  8 86 62 23 70 11 70 21 15\n",
      " 84 51  6 79 78 66  2 93 49 74 23 85 25 38  1 89]\n",
      "[67 60 65 82 75 77 67 86 62 70 70 84 51 79 78 66 93 74 85 89]\n",
      "[67 60 65 67 62 51 66]\n",
      "75\n",
      "21\n",
      "77\n",
      "70\n",
      "The word twinkle contains an e at index 6\n",
      "The word twinkle contains an e at index 6\n",
      "The word little contains an e at index 5\n",
      "The word star contains an a at index 2\n",
      "word_list contains star\n",
      "word_list does not contain bright\n"
     ]
    }
   ],
   "source": [
    "print( 'Problem 2:' )\n",
    "\n",
    "q = np.array([45, 24, 5, 30, 3, 67, 33, 60, 65, 13, 82, 75, 21, 77, 67, 8, 86, 62, 23, 70, 11, 70, 21, 15, 84, 51, 6, 79, 78, 66, 2, 93, 49, 74, 23, 85, 25, 38, 1, 89])\n",
    "\n",
    "print( q )\n",
    "\n",
    "# print all elements larger than 50\n",
    "print( q[q > 50] ) # a neat Python trick!\n",
    "\n",
    "# print all elements larger than 50 and less than 70\n",
    "print( q[(q > 50) & (q < 70)] ) # can't do this in C++!\n",
    "\n",
    "q_list = q.tolist()\n",
    "\n",
    "print( q_list[11] )\n",
    "print( q_list[12] )\n",
    "print( q_list[13] )\n",
    "\n",
    "q_list[27] = 42.0\n",
    "\n",
    "q_tuple = tuple(q_list)\n",
    "\n",
    "print( q_tuple[19] )\n",
    "\n",
    "#q_tuple[20] = 44.0\n",
    "\n",
    "word_list = ['twinkle', 'twinkle', 'little', 'star']\n",
    "\n",
    "for word in word_list:\n",
    "    # if the word contains an 'e', print it\n",
    "    if 'e' in word:\n",
    "        print( 'The word ' + word + ' contains an e at index ' + str(word.find('e')) )\n",
    "    # if the word contains an 'a', print it\n",
    "    if 'a' in word:\n",
    "        print( 'The word ' + word + ' contains an a at index ' + str(word.find('a')) )\n",
    "\n",
    "# test if word_list contains 'star' or 'bright'\n",
    "if 'star' in word_list:\n",
    "    print( 'word_list contains star' )\n",
    "else:\n",
    "    print( 'word_list does not contain star' )\n",
    "\n",
    "if 'bright' in word_list:\n",
    "    print( 'word_list contains bright' )\n",
    "else:\n",
    "    print( 'word_list does not contain bright' )"
   ]
  },
  {
   "cell_type": "markdown",
   "metadata": {},
   "source": [
    "# Problem 3"
   ]
  },
  {
   "cell_type": "code",
   "execution_count": 43,
   "metadata": {},
   "outputs": [
    {
     "name": "stdout",
     "output_type": "stream",
     "text": [
      "Problem 3:\n",
      "The word three corresponds to the number 3\n",
      "The word seven corresponds to the number 7\n",
      "The word twelve corresponds to the number 12\n",
      "The word sixteen corresponds to the number 16\n",
      "The word nineteen corresponds to the number 19\n"
     ]
    }
   ],
   "source": [
    "print( 'Problem 3:' )\n",
    "\n",
    "def word_to_number(word):\n",
    "    \"\"\"Convert an English word to its corresponding number\"\"\"\n",
    "    word_to_num = {'zero': 0, 'one': 1, 'two': 2, 'three': 3, 'four': 4, 'five': 5, 'six': 6, 'seven': 7, 'eight': 8, 'nine': 9, 'ten': 10,\n",
    "                     'eleven': 11, 'twelve': 12, 'thirteen': 13, 'fourteen': 14, 'fifteen': 15, 'sixteen': 16, 'seventeen': 17, 'eightteen': 18, 'nineteen': 19, 'twenty': 20}\n",
    "    return word_to_num[word]\n",
    "\n",
    "for word in ['three', 'seven', 'twelve', 'sixteen', 'nineteen']:\n",
    "    print( 'The word ' + word + ' corresponds to the number ' + str(word_to_number(word)) )\n",
    "    \n",
    "\n",
    "    "
   ]
  }
 ],
 "metadata": {
  "kernelspec": {
   "display_name": "Python 3.10.12 64-bit",
   "language": "python",
   "name": "python3"
  },
  "language_info": {
   "codemirror_mode": {
    "name": "ipython",
    "version": 3
   },
   "file_extension": ".py",
   "mimetype": "text/x-python",
   "name": "python",
   "nbconvert_exporter": "python",
   "pygments_lexer": "ipython3",
   "version": "3.10.12"
  },
  "orig_nbformat": 4,
  "vscode": {
   "interpreter": {
    "hash": "916dbcbb3f70747c44a77c7bcd40155683ae19c65e1c03b4aa3499c5328201f1"
   }
  }
 },
 "nbformat": 4,
 "nbformat_minor": 2
}
