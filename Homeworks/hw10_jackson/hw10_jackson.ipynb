{
 "cells": [
  {
   "cell_type": "markdown",
   "metadata": {},
   "source": [
    "# HW10 Notebook\n",
    "### Name\n",
    "Jackson Huff\n",
    "### Assignment Number\n",
    "10\n",
    "### Date\n",
    "Thu Sep  7 10:23:00 AM EDT 2023"
   ]
  },
  {
   "cell_type": "markdown",
   "metadata": {},
   "source": [
    "# Problem 1"
   ]
  },
  {
   "cell_type": "code",
   "execution_count": 32,
   "metadata": {},
   "outputs": [
    {
     "name": "stdout",
     "output_type": "stream",
     "text": [
      "Problem 1:\n",
      "For this data, the best value for a is 3.199999999997783 and the best value for b is 4.500000000111969\n"
     ]
    }
   ],
   "source": [
    "print( 'Problem 1:' )\n",
    "\n",
    "import numpy as np\n",
    "from scipy.optimize import curve_fit\n",
    "\n",
    "x = np.linspace(1, 100, 40)\n",
    "y = np.array([ 7.7, 15.82307692, 23.94615385, 32.06923077, 40.19230769, 48.31538462, 56.43846154, 64.56153846, 72.68461538, 80.80769231, 88.93076923, 97.05384615, 105.17692308, 113.3 , 121.42307692, 129.54615385, 137.66923077, 145.79230769, 153.91538462, 162.03846154, 170.16153846, 178.28461538, 186.40769231, 194.53076923, 202.65384615, 210.77692308, 218.9, 227.02307692, 235.14615385, 243.26923077, 251.39230769, 259.51538462, 267.63846154, 275.76153846, 283.88461538, 292.00769231, 300.13076923, 308.25384615, 316.37692308, 324.5])\n",
    "\n",
    "x_mod = np.linspace(1, 100, 100)\n",
    "\n",
    "# best fit of this data:  y_mod = a*x_mod + b\n",
    "# where 0.1 < a < 10 and 0.1 < b < 15\n",
    "\n",
    "def fit_func(x, a, b):\n",
    "    return a*x + b\n",
    "\n",
    "popt, pcov = curve_fit(fit_func, x, y, bounds=([0.1, 0.1], [10, 15])) # bounds are the limits on a and b\n",
    "\n",
    "print( 'For this data, the best value for a is', popt[0], 'and the best value for b is', popt[1] )\n"
   ]
  },
  {
   "cell_type": "markdown",
   "metadata": {},
   "source": [
    "# Problem 2"
   ]
  },
  {
   "cell_type": "code",
   "execution_count": 33,
   "metadata": {},
   "outputs": [
    {
     "name": "stdout",
     "output_type": "stream",
     "text": [
      "Problem 2:\n",
      "The wind chill for a day with 20 degrees F and 55 MPH winds is -3.4748397706315757 degrees F.\n",
      "The distance to Betelgeuse is 0.1310615989515072 milliparsecs\n",
      "The distance to Antares is 0.16977928692699493 milliparsecs\n",
      "The distance to Spica is 0.07656967840735068 milliparsecs\n",
      "The distance to Proxima Centauri is 0.0013020833333333333 milliparsecs\n",
      "The new dictionary is {'watermelon': 1, 'melon': 3, 'apple': 5, 'strawberries': 10, 'cherries': 12, 'oranges': 14}\n",
      "The new dictionary is {'cars': 200, 'motorcycles': 150, 'bikes': 10, 'skateboards': 67}\n",
      "These matrices are not compatible! The first one has dimensions 2x3 and the second one has dimensions 2x2.\n",
      "The product of A1 and A2 is None\n",
      "The product of B1 and B2 is [[array([4, 1]), array([0, 0])], [array([0, 0]), array([2, 1])]]\n",
      "The product of C1 and C2 is [[4, 0, 15], [0, 1, 20], [8, 1, 40]]\n",
      "Passed the test\n"
     ]
    }
   ],
   "source": [
    "print( 'Problem 2:' )\n",
    "\n",
    "def wind_chill(actual_temperature: float, wind_speed: float) -> float:\n",
    "    \"\"\"Returns the wind chill temperature given the actual temperature in Farenheit and wind speed in MPH.\"\"\"\n",
    "    return 35.74 + 0.6215 * actual_temperature - 35.75 * wind_speed**0.16 + 0.4275 * actual_temperature * wind_speed**0.16\n",
    "\n",
    "print( 'The wind chill for a day with 20 degrees F and 55 MPH winds is ' + str(wind_chill(20, 55)) + ' degrees F.' )\n",
    "\n",
    "######################################################################################################\n",
    "\n",
    "def parallax_to_distance(stars_observed: dict) -> dict:\n",
    "    \"\"\"Returns a dictionary of the distances from the Earth to the stars in the input dictionary.\"\"\"\n",
    "    return {star_name: 1/stars_observed[star_name] for star_name in stars_observed} # formula: distance = 1/parallax\n",
    "\n",
    "stars_parallax = {\n",
    "    'Betelgeuse': 7.63,\n",
    "    'Antares': 5.89,\n",
    "    'Spica': 13.06,\n",
    "    'Proxima Centauri': 768.0\n",
    "}\n",
    "\n",
    "stars_distance = parallax_to_distance(stars_parallax)\n",
    "\n",
    "for star in stars_distance:\n",
    "    print( 'The distance to ' + star + ' is ' + str(stars_distance[star]) + ' milliparsecs' )\n",
    "\n",
    "######################################################################################################\n",
    "\n",
    "def lists_to_dict(first_list: list, second_list: list) -> dict:\n",
    "    \"\"\"Returns a dictionary with the keys from the list with strings and the values from the list with numbers.\"\"\"\n",
    "    # check which list has the strings\n",
    "    if type(first_list[0]) == str: # if the first list has strings\n",
    "        return {first_list[i]: second_list[i] for i in range(len(first_list))}\n",
    "    else: # if the second list has strings\n",
    "        return {second_list[i]: first_list[i] for i in range(len(first_list))}\n",
    "\n",
    "list_1 = [1, 3, 5, 10, 12, 14]\n",
    "list_2 = ['watermelon', 'melon', 'apple', 'strawberries', 'cherries', 'oranges']\n",
    "\n",
    "new_dict = lists_to_dict(list_1, list_2)\n",
    "\n",
    "print( 'The new dictionary is', new_dict )\n",
    "\n",
    "list_1 = ['cars', 'motorcycles', 'bikes', 'skateboards']\n",
    "list_2 = [200, 150, 10, 67]\n",
    "\n",
    "new_dict = lists_to_dict(list_1, list_2)\n",
    "\n",
    "print( 'The new dictionary is', new_dict )\n",
    "\n",
    "######################################################################################################\n",
    "\n",
    "def matrix_mult(matrix_one: list, matrix_two: list) -> list:\n",
    "    \"\"\"Returns the product of two matrices as a matrix.\"\"\"\n",
    "\n",
    "    # check if the matrices are compatible, or if the first matrix has the same number of columns as the second matrix has rows\n",
    "    if len(matrix_one[0]) != len(matrix_two):\n",
    "        print('These matrices are not compatible! The first one has dimensions ' + str(len(matrix_one)) + 'x' + str(len(matrix_one[0])) + ' and the second one has dimensions ' + str(len(matrix_two)) + 'x' + str(len(matrix_two[0])) + '.')\n",
    "        return None\n",
    "\n",
    "    # create the product matrix\n",
    "    # it will have the same number of rows as the first matrix and the same number of columns as the second matrix\n",
    "    if type(matrix_two[0]) != list: # if the columns in the second matrix are raw numbers\n",
    "        product_matrix = [[0 for i in range(len(matrix_two))] for j in range(len(matrix_one))]\n",
    "    else:\n",
    "        product_matrix = [[0 for i in range(len(matrix_two[0]))] for j in range(len(matrix_one))]\n",
    "\n",
    "    # fill in the product matrix\n",
    "    if type(matrix_two[0]) != list: # if the columns in the second matrix are raw numbers\n",
    "        for i in range(len(matrix_one)):\n",
    "            for j in range(len(matrix_two)):\n",
    "                product_matrix[i][j] = matrix_one[i][j] * matrix_two[j]\n",
    "    else:\n",
    "        for i in range(len(matrix_one)):\n",
    "            for j in range(len(matrix_two[0])):\n",
    "                for k in range(len(matrix_two)):\n",
    "                    product_matrix[i][j] += matrix_one[i][k] * matrix_two[k][j]\n",
    "\n",
    "    return product_matrix\n",
    "    \n",
    "\n",
    "A1 = np.array([[1, 2, 3], [4, 5, 6]])\n",
    "A2 = np.array([[2, 3], [2, 2]])\n",
    "\n",
    "B1 = np.array([[1, 0], [0, 1]])\n",
    "B2 = np.array([[4, 1], [2, 1]])\n",
    "\n",
    "C1 = np.array([[1, 0, 3], [0, 1, 4], [2, 1, 8]])\n",
    "C2 = np.array([4, 1, 5])\n",
    "\n",
    "print( 'The product of A1 and A2 is ' + str(matrix_mult(A1, A2)) )\n",
    "print( 'The product of B1 and B2 is ' + str(matrix_mult(B1, B2)) ) \n",
    "print( 'The product of C1 and C2 is ' + str(matrix_mult(C1, C2)) )\n",
    "\n",
    "test_matrix_1 = [[1, 2, 3], [4, 5, 6], [7, 8, 9]]\n",
    "test_matrix_2 = [[5, 5, 5], [2, 2, 2], [3, 3, 3]]\n",
    "\n",
    "known_result = [[18, 18, 18], [48, 48, 48], [78, 78, 78]]\n",
    "test_result = matrix_mult(test_matrix_1, test_matrix_2)\n",
    "\n",
    "if test_result == known_result:\n",
    "    print( 'Passed the test' )\n",
    "else:\n",
    "    print( 'Failed the test' )"
   ]
  }
 ],
 "metadata": {
  "kernelspec": {
   "display_name": "Python 3.10.12 64-bit",
   "language": "python",
   "name": "python3"
  },
  "language_info": {
   "codemirror_mode": {
    "name": "ipython",
    "version": 3
   },
   "file_extension": ".py",
   "mimetype": "text/x-python",
   "name": "python",
   "nbconvert_exporter": "python",
   "pygments_lexer": "ipython3",
   "version": "3.10.12"
  },
  "orig_nbformat": 4,
  "vscode": {
   "interpreter": {
    "hash": "916dbcbb3f70747c44a77c7bcd40155683ae19c65e1c03b4aa3499c5328201f1"
   }
  }
 },
 "nbformat": 4,
 "nbformat_minor": 2
}
