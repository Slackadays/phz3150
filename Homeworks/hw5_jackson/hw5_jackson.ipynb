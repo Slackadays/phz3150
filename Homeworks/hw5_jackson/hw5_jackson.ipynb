{
 "cells": [
  {
   "cell_type": "markdown",
   "metadata": {},
   "source": [
    "# Notebook for HW5\n",
    "### Name\n",
    "Jackson Huff\n",
    "### Assignment Number\n",
    "5\n",
    "### Date\n",
    "Sat Sep  2 04:07:49 PM EDT 2023"
   ]
  },
  {
   "cell_type": "markdown",
   "metadata": {},
   "source": [
    "# Problem 1"
   ]
  },
  {
   "cell_type": "code",
   "execution_count": 2,
   "metadata": {},
   "outputs": [
    {
     "name": "stdout",
     "output_type": "stream",
     "text": [
      "Problem 1:\n",
      "Calculating the solutions for x^2 - x - 12 = 0\n",
      "First solution: 4.0\n",
      "Second solution: -3.0\n"
     ]
    }
   ],
   "source": [
    "print( 'Problem 1:' )\n",
    "\n",
    "import numpy as np\n",
    "\n",
    "def quadratic_formula(a: float, b: float, c: float) -> list:\n",
    "    \"\"\"Returns the solutions for a quadratic equation ax^2 + bx + c = 0 using the quadratic formula.\"\"\"\n",
    "    discriminant = (b ** 2) - (4 * a * c)\n",
    "    if discriminant < 0:\n",
    "        return []\n",
    "    elif discriminant == 0:\n",
    "        return [(-b) / (2 * a)]\n",
    "    else:\n",
    "        first = (-b + np.sqrt(discriminant)) / (2 * a)\n",
    "        second = (-b - np.sqrt(discriminant)) / (2 * a)\n",
    "        return [first, second]\n",
    "\n",
    "# now calculate for x^2 - x - 12 = 0\n",
    "\n",
    "a = 1\n",
    "b = -1\n",
    "c = -12\n",
    "\n",
    "print( 'Calculating the solutions for x^2 - x - 12 = 0' )\n",
    "\n",
    "solution_one, solution_two = quadratic_formula(a, b, c)\n",
    "\n",
    "print( 'First solution: ' + str(solution_one) )\n",
    "print( 'Second solution: ' + str(solution_two) )"
   ]
  },
  {
   "cell_type": "markdown",
   "metadata": {},
   "source": [
    "# Problem 2"
   ]
  },
  {
   "cell_type": "code",
   "execution_count": 12,
   "metadata": {},
   "outputs": [
    {
     "name": "stdout",
     "output_type": "stream",
     "text": [
      "Problem 2:\n",
      "Student 1 has a height of 1m and 55cm\n",
      "Student 2 has a height of 1m and 48cm\n",
      "Student 3 has a height of 1m and 88cm\n",
      "Student 4 has a height of 1m and 71cm\n",
      "Student 5 has a height of 2m and 11cm\n"
     ]
    }
   ],
   "source": [
    "print( 'Problem 2:' )\n",
    "\n",
    "import math\n",
    "\n",
    "student_h = [[5, 1], [4, 10], [6, 2], [5, 7], [6, 11]]\n",
    "\n",
    "def ft_to_m_cm(student):\n",
    "    \"\"\"Convert a student's height from feet to meters and centimeters.\"\"\"\n",
    "    inches = (student[0] * 12) + student[1]\n",
    "    # now find the lowest whole number of meters\n",
    "    meters = math.floor(inches * 0.0254)\n",
    "    # now find the remaining centimeters\n",
    "    centimeters = math.ceil((inches * 0.0254 - meters) * 100)\n",
    "    return [meters, centimeters]\n",
    "\n",
    "for student in student_h:\n",
    "    print( 'Student ' + str(student_h.index(student) + 1) + ' has a height of ' + str(ft_to_m_cm(student)[0]) + 'm and ' + str(ft_to_m_cm(student)[1]) + 'cm' )"
   ]
  },
  {
   "cell_type": "markdown",
   "metadata": {},
   "source": [
    "# Problem 3"
   ]
  },
  {
   "cell_type": "code",
   "execution_count": 14,
   "metadata": {},
   "outputs": [
    {
     "name": "stdout",
     "output_type": "stream",
     "text": [
      "Problem 3:\n",
      "Displacement for the object when acceleration = 10 and time = 2 is 20.0\n",
      "Displacement for the object when acceleration = 20 and time = 4 is 160.0\n",
      "Displacement for the object when acceleration = 30 and time = 14 is 2940.0\n"
     ]
    }
   ],
   "source": [
    "import displacement\n",
    "\n",
    "print( 'Problem 3:' )\n",
    "\n",
    "v0 = 0\n",
    "\n",
    "a = [10, 20, 30]\n",
    "\n",
    "t = [2, 4, 14]\n",
    "\n",
    "for i in range(0, 3):\n",
    "    print( 'Displacement for the object when acceleration = ' + str(a[i]) + ' and time = ' + str(t[i]) + ' is ' + str(displacement.displacement(v0, t[i], a[i])) )\n",
    "\n",
    "# I checked that these answers are correct using my calculator."
   ]
  },
  {
   "cell_type": "code",
   "execution_count": null,
   "metadata": {},
   "outputs": [],
   "source": []
  }
 ],
 "metadata": {
  "kernelspec": {
   "display_name": "Python 3.11.4 ('base')",
   "language": "python",
   "name": "python3"
  },
  "language_info": {
   "codemirror_mode": {
    "name": "ipython",
    "version": 3
   },
   "file_extension": ".py",
   "mimetype": "text/x-python",
   "name": "python",
   "nbconvert_exporter": "python",
   "pygments_lexer": "ipython3",
   "version": "3.11.4"
  },
  "orig_nbformat": 4,
  "vscode": {
   "interpreter": {
    "hash": "5b54ec411289af8bc53476f928aaaa5206d6f6cabf302eb597da71e4d9472fb3"
   }
  }
 },
 "nbformat": 4,
 "nbformat_minor": 2
}
