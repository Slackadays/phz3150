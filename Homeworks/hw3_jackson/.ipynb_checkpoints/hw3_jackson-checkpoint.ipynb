{
 "cells": [
  {
   "cell_type": "markdown",
   "id": "6aaac2d3",
   "metadata": {},
   "source": [
    "# My First Notebook!"
   ]
  },
  {
   "cell_type": "markdown",
   "id": "ab8089ad",
   "metadata": {},
   "source": [
    "This notebook is for HW3"
   ]
  },
  {
   "cell_type": "code",
   "execution_count": 1,
   "id": "cb224fd6",
   "metadata": {},
   "outputs": [
    {
     "name": "stdout",
     "output_type": "stream",
     "text": [
      "1000\n",
      "90\n"
     ]
    }
   ],
   "source": [
    "x = 10\n",
    "y = 100\n",
    "z = x * y\n",
    "w = y - x\n",
    "print(z)\n",
    "print(w)"
   ]
  },
  {
   "cell_type": "code",
   "execution_count": 6,
   "id": "54d4e86a",
   "metadata": {},
   "outputs": [],
   "source": [
    "min = 3\n",
    "# In my Python version, nothing happens in particular here\n",
    "# min isn't a good name to use for a variable because it shadows an existing function to use as a variable name\n",
    "# I hate that Python lets you do this because in other languages like C++, each symbol is its own thing"
   ]
  },
  {
   "cell_type": "code",
   "execution_count": 7,
   "id": "b3e68db0",
   "metadata": {},
   "outputs": [
    {
     "name": "stdout",
     "output_type": "stream",
     "text": [
      "1\n",
      "2\n",
      "20\n"
     ]
    }
   ],
   "source": [
    "q = 1\n",
    "print(q)\n",
    "q += 1\n",
    "print(q)\n",
    "print(q * 10)"
   ]
  },
  {
   "cell_type": "code",
   "execution_count": null,
   "id": "7f98b290",
   "metadata": {},
   "outputs": [],
   "source": []
  }
 ],
 "metadata": {
  "kernelspec": {
   "display_name": "Python 3 (ipykernel)",
   "language": "python",
   "name": "python3"
  },
  "language_info": {
   "codemirror_mode": {
    "name": "ipython",
    "version": 3
   },
   "file_extension": ".py",
   "mimetype": "text/x-python",
   "name": "python",
   "nbconvert_exporter": "python",
   "pygments_lexer": "ipython3",
   "version": "3.11.4"
  }
 },
 "nbformat": 4,
 "nbformat_minor": 5
}
