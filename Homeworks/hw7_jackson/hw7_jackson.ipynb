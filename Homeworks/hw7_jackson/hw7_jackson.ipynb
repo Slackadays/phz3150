{
 "cells": [
  {
   "cell_type": "markdown",
   "id": "53e0a0b7",
   "metadata": {},
   "source": [
    "# HW7 Notebook\n",
    "### Name\n",
    "Jackson Huff\n",
    "### Assignment Number\n",
    "7\n",
    "### Date\n",
    "Sun Sep  3 10:37:34 AM EDT 2023"
   ]
  },
  {
   "cell_type": "code",
   "execution_count": 53,
   "id": "c5e07470",
   "metadata": {},
   "outputs": [],
   "source": [
    "import numpy as np"
   ]
  },
  {
   "cell_type": "markdown",
   "id": "8e998d44",
   "metadata": {},
   "source": [
    "# Problem 1"
   ]
  },
  {
   "cell_type": "code",
   "execution_count": 54,
   "id": "9ef19785",
   "metadata": {},
   "outputs": [
    {
     "name": "stdout",
     "output_type": "stream",
     "text": [
      "Problem 1:\n",
      "Deleting\n",
      "an\n",
      "item\n",
      "from\n",
      "a\n",
      "list\n",
      "or\n",
      "array\n",
      "while\n",
      "iterating\n",
      "over\n",
      "it\n",
      "is\n",
      "a\n",
      "Python\n",
      "problem\n",
      "that\n",
      "is\n",
      "well\n",
      "known\n",
      "to\n",
      "any\n",
      "experienced\n",
      "software\n",
      "developer\n",
      "The longest word in the sentence was experienced\n",
      "The longest word in the sentence was experienced\n",
      "Unique letters: ['D', 'e', 'l', 't', 'i', 'n', 'g', 'a', 'm', 'f', 'r', 'o', 's']\n"
     ]
    }
   ],
   "source": [
    "print( 'Problem 1:' )\n",
    "\n",
    "sentence = 'Deleting an item from a list or array while iterating over it is a Python problem that is well known to any experienced software developer'\n",
    "\n",
    "for word in sentence.split(): # show all the words\n",
    "    print( word )\n",
    "\n",
    "longest_word = ''\n",
    "\n",
    "for word in sentence.split(): # using a for loop\n",
    "    if len( word ) > len( longest_word ):\n",
    "        longest_word = word\n",
    "\n",
    "print( 'The longest word in the sentence was ' + longest_word )\n",
    "\n",
    "longest_word = ''\n",
    "index = 0\n",
    "words_in_sentence = sentence.split()\n",
    "\n",
    "while index < len(words_in_sentence): # using a while loop\n",
    "    if len(words_in_sentence[index]) > len(longest_word):\n",
    "        longest_word = words_in_sentence[index]\n",
    "    index += 1\n",
    "\n",
    "print( 'The longest word in the sentence was ' + longest_word )\n",
    "\n",
    "first_six_words = sentence.split()[0:6]\n",
    "unique_letters = []\n",
    "\n",
    "for word in first_six_words:\n",
    "    for letter in word:\n",
    "        if letter not in unique_letters:\n",
    "            unique_letters.append(letter)\n",
    "\n",
    "print( 'Unique letters: ' + str(unique_letters) )"
   ]
  },
  {
   "cell_type": "markdown",
   "id": "d58d185f",
   "metadata": {},
   "source": [
    "# Problem 2"
   ]
  },
  {
   "cell_type": "code",
   "execution_count": 55,
   "id": "d0f582c1",
   "metadata": {},
   "outputs": [
    {
     "name": "stdout",
     "output_type": "stream",
     "text": [
      "Problem 2:\n",
      "[-8.  -7.9 -7.8 -7.7 -7.6 -7.5 -7.4 -7.3 -7.2 -7.1 -7.  -6.9 -6.8 -6.7\n",
      " -6.6 -6.5 -6.4 -6.3 -6.2 -6.1 -6.  -5.9 -5.8 -5.7 -5.6 -5.5 -5.4 -5.3\n",
      " -5.2 -5.1 -5.  -4.9 -4.8 -4.7 -4.6 -4.5 -4.4 -4.3 -4.2 -4.1 -4.  -3.9\n",
      " -3.8 -3.7 -3.6 -3.5 -3.4 -3.3 -3.2 -3.1 -3.  -2.9 -2.8 -2.7 -2.6 -2.5\n",
      " -2.4 -2.3 -2.2 -2.1 -2.  -1.9 -1.8 -1.7 -1.6 -1.5 -1.4 -1.3 -1.2 -1.1\n",
      " -1.  -0.9 -0.8 -0.7 -0.6 -0.5 -0.4 -0.3 -0.2 -0.1  0.   0.1  0.2  0.3\n",
      "  0.4  0.5  0.6  0.7  0.8  0.9  1.   1.1  1.2  1.3  1.4  1.5  1.6  1.7\n",
      "  1.8  1.9  2.   2.1  2.2  2.3  2.4  2.5  2.6  2.7  2.8  2.9  3.   3.1\n",
      "  3.2  3.3  3.4  3.5  3.6  3.7  3.8  3.9  4.   4.1  4.2  4.3  4.4  4.5\n",
      "  4.6  4.7  4.8  4.9  5.   5.1  5.2  5.3  5.4  5.5  5.6  5.7  5.8  5.9\n",
      "  6.   6.1  6.2  6.3  6.4  6.5  6.6  6.7  6.8  6.9  7.   7.1  7.2  7.3\n",
      "  7.4  7.5  7.6  7.7  7.8  7.9  8.   8.1  8.2  8.3  8.4  8.5  8.6  8.7\n",
      "  8.8  8.9  9.   9.1  9.2  9.3  9.4  9.5  9.6  9.7  9.8  9.9 10.  10.1\n",
      " 10.2 10.3 10.4 10.5 10.6 10.7 10.8 10.9 11.  11.1 11.2 11.3 11.4 11.5\n",
      " 11.6 11.7 11.8 11.9 12. ]\n"
     ]
    },
    {
     "data": {
      "text/plain": [
       "[<matplotlib.lines.Line2D at 0x7f4a867d04c0>]"
      ]
     },
     "execution_count": 55,
     "metadata": {},
     "output_type": "execute_result"
    },
    {
     "data": {
      "image/png": "[encoded data removed]",
      "text/plain": [
       "<Figure size 640x480 with 1 Axes>"
      ]
     },
     "metadata": {},
     "output_type": "display_data"
    }
   ],
   "source": [
    "print( 'Problem 2:' )\n",
    "\n",
    "import hw7_support_funct as hw7\n",
    "import importlib\n",
    "importlib.reload(hw7) # because jupyter notebooks don't reload functions automatically after modifying them\n",
    "import matplotlib.pyplot as plt\n",
    "\n",
    "x0 = 2\n",
    "y0 = 2\n",
    "\n",
    "x = -8. + 0.1*np.arange(201) # had to change this from 220 to 201 because 220 gave values that are impossible for a circle of this size\n",
    "\n",
    "print( x )\n",
    "\n",
    "r = 10\n",
    "\n",
    "positive_y_coords, negative_y_coords = hw7.circle(x, x0, y0, r)\n",
    "\n",
    "plt.plot(x, positive_y_coords, 'b')\n",
    "plt.plot(x, negative_y_coords, 'g')"
   ]
  },
  {
   "cell_type": "markdown",
   "id": "08211f70",
   "metadata": {},
   "source": [
    "# Problem 3"
   ]
  },
  {
   "cell_type": "code",
   "execution_count": 56,
   "id": "3a19959a",
   "metadata": {},
   "outputs": [
    {
     "name": "stdout",
     "output_type": "stream",
     "text": [
      "Problem 3:\n",
      "[ 2  4  5  8 10 12 22 42]\n",
      "[ 2  4  5  8 10 12 22 42]\n",
      "These two arrays are equal!\n"
     ]
    }
   ],
   "source": [
    "print( 'Problem 3:' )\n",
    "\n",
    "importlib.reload(hw7)\n",
    "\n",
    "test_array = np.array([4,5,2,10,42,22,8,12])\n",
    "\n",
    "sorted_array = hw7.order_array(test_array)\n",
    "\n",
    "print( sorted_array )\n",
    "\n",
    "# now test it with numpy\n",
    "\n",
    "known_sorted_array = np.sort(test_array)\n",
    "\n",
    "print( known_sorted_array )\n",
    "\n",
    "if np.array_equal(sorted_array, known_sorted_array):\n",
    "    print( 'These two arrays are equal!' )\n",
    "else:\n",
    "    print( 'These two arrays are not equal!' )"
   ]
  },
  {
   "cell_type": "markdown",
   "id": "f5f9e0c7",
   "metadata": {},
   "source": [
    "# Problem 4"
   ]
  },
  {
   "cell_type": "code",
   "execution_count": 57,
   "id": "97a4e8f7",
   "metadata": {},
   "outputs": [
    {
     "name": "stdout",
     "output_type": "stream",
     "text": [
      "Problem 4:\n",
      "[[ 1  2  3  4  5]\n",
      " [ 6  7  8  9 10]\n",
      " [11 12 13 14 15]\n",
      " [16 17 18 19 20]\n",
      " [21 22 23 24 25]]\n",
      "4\n",
      "9\n",
      "14\n",
      "19\n",
      "24\n",
      "25\n",
      "13.0\n",
      "25\n",
      "13.0\n"
     ]
    }
   ],
   "source": [
    "print( 'Problem 4:' )\n",
    "\n",
    "my_data = np.arange( 1, 26 ).reshape( (5, 5) )\n",
    "\n",
    "print( my_data )\n",
    "\n",
    "print( my_data[0, 3] ) # accessing the 4th element of the 1st row\n",
    "print( my_data[1, 3] ) # accessing the 4th element of the 2nd row\n",
    "print( my_data[2, 3] ) # etc\n",
    "print( my_data[3, 3] )\n",
    "print( my_data[4, 3] )\n",
    "\n",
    "maximum = 0\n",
    "\n",
    "for row in my_data:\n",
    "    for element in row:\n",
    "        if element > maximum:\n",
    "            maximum = element\n",
    "\n",
    "print( maximum )\n",
    "\n",
    "sum = 0\n",
    "\n",
    "for row in my_data:\n",
    "    for element in row:\n",
    "        sum += element\n",
    "\n",
    "mean = sum / 25 # 5*5 = 25\n",
    "\n",
    "print( mean )\n",
    "\n",
    "# a simplified version of the maximum and mean that is much faster using the builtin numpy functions as one-liners\n",
    "\n",
    "print( np.max(my_data) ) # maximum\n",
    "\n",
    "print( np.mean(my_data) ) # mean"
   ]
  }
 ],
 "metadata": {
  "kernelspec": {
   "display_name": "Python 3 (ipykernel)",
   "language": "python",
   "name": "python3"
  },
  "language_info": {
   "codemirror_mode": {
    "name": "ipython",
    "version": 3
   },
   "file_extension": ".py",
   "mimetype": "text/x-python",
   "name": "python",
   "nbconvert_exporter": "python",
   "pygments_lexer": "ipython3",
   "version": "3.10.12"
  },
  "vscode": {
   "interpreter": {
    "hash": "916dbcbb3f70747c44a77c7bcd40155683ae19c65e1c03b4aa3499c5328201f1"
   }
  }
 },
 "nbformat": 4,
 "nbformat_minor": 5
}
