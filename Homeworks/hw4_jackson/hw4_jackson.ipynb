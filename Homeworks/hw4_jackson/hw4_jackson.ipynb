{
 "cells": [
  {
   "cell_type": "markdown",
   "id": "0b7587f3",
   "metadata": {},
   "source": [
    "# My HW4 Notebook\n",
    "### Name\n",
    "Jackson Huff\n",
    "### Assignment number\n",
    "4\n",
    "### Date\n",
    "Sat Sep  2 02:45:07 PM EDT 2023"
   ]
  },
  {
   "cell_type": "markdown",
   "id": "4d4b234d",
   "metadata": {},
   "source": [
    "# Problem 1"
   ]
  },
  {
   "cell_type": "code",
   "execution_count": 23,
   "id": "48bd7755",
   "metadata": {},
   "outputs": [
    {
     "name": "stdout",
     "output_type": "stream",
     "text": [
      "Problem 1: Calculate the force of an object given its mass and acceleration.\n",
      "Object 1 (10kg, 5m/s^2)\n",
      "F = 50N\n",
      "Object 2 (15kg, 10m/s^2)\n",
      "F = 150N\n",
      "Object 3 (20kg, 5m/s^2)\n",
      "F = 100N\n",
      "Object 4 (40kg, 3m/s^2)\n",
      "F = 120N\n",
      "Acceleration of a body of mass 150kg when forces F of 100N, 22N and 450N are applied to it:\n",
      "a = 3.8133333333333335m/s^2\n"
     ]
    }
   ],
   "source": [
    "print( 'Problem 1: Calculate the force of an object given its mass and acceleration.' )\n",
    "\n",
    "# calc F for these mass/acc. pairs:\n",
    "# kg, m/s^2\n",
    "# 10, 5\n",
    "# 15, 10\n",
    "# 20, 5\n",
    "# 40, 3\n",
    "\n",
    "def calc_F(mass, acc):\n",
    "    print( \"F = \" + str(mass * acc) + \"N\" )\n",
    "\n",
    "print( 'Object 1 (10kg, 5m/s^2)' )\n",
    "calc_F(10, 5)\n",
    "print( 'Object 2 (15kg, 10m/s^2)' )\n",
    "calc_F(15, 10)\n",
    "print( 'Object 3 (20kg, 5m/s^2)' )\n",
    "calc_F(20, 5)\n",
    "print( 'Object 4 (40kg, 3m/s^2)' )\n",
    "calc_F(40, 3)\n",
    "\n",
    "def force_to_acceleration(mass, force):\n",
    "    \"\"\"Return the acceleration of an object given its mass and the force applied to it.\"\"\"\n",
    "    print( \"a = \" + str(force / mass) + \"m/s^2\" )\n",
    "\n",
    "print( 'Acceleration of a body of mass 150kg when forces F of 100N, 22N and 450N are applied to it:' )\n",
    "force_to_acceleration(150, 100 + 22 + 450)\n",
    "    "
   ]
  },
  {
   "cell_type": "markdown",
   "id": "9b2daebc",
   "metadata": {},
   "source": [
    "# Problem 2"
   ]
  },
  {
   "cell_type": "code",
   "execution_count": 25,
   "id": "6d5f674c",
   "metadata": {},
   "outputs": [
    {
     "name": "stdout",
     "output_type": "stream",
     "text": [
      "Problem 2: Calculate the acceleration of an object given its initial and final velocities and the time elapsed.\n",
      "Acceleration over time for this object: \n",
      "1.5m/s^2\n",
      "3.75m/s^2\n",
      "2.0m/s^2\n",
      "-5.5m/s^2\n"
     ]
    }
   ],
   "source": [
    "print( 'Problem 2: Calculate the acceleration of an object given its initial and final velocities and the time elapsed.' )\n",
    "\n",
    "# import my acceleration.py file to get the acceleration function\n",
    "import acceleration\n",
    "\n",
    "# the data we'll process, put into a 2d array\n",
    "# t1, t2, u1, u2 (s, s, m/s, m/s)\n",
    "# 0, 2, 10, 13\n",
    "# 10, 14, 15, 30\n",
    "# 14, 16, 32, 36\n",
    "# 28, 32, 42, 20\n",
    "# 0, 10, 20, 22\n",
    "\n",
    "raw_data = [\n",
    "    [10, 15, 32, 42, 20], # u1\n",
    "    [13, 30, 36, 20, 22], # u2\n",
    "    [0, 10, 14, 28, 0], # t1\n",
    "    [2, 14, 16, 32, 10] # t2\n",
    "]\n",
    "\n",
    "print( 'Acceleration over time for this object: ')\n",
    "for i in range(0, 4):\n",
    "    print( str(acceleration.acceleration(raw_data[0][i], raw_data[1][i], raw_data[2][i], raw_data[3][i])) + 'm/s^2' )"
   ]
  },
  {
   "cell_type": "markdown",
   "id": "4d71cea3",
   "metadata": {},
   "source": [
    "I checked that this calculation was valid by using my calculator for several of the pairs.\n",
    "\n",
    "One test case I could use to verify this programatically is to input some positive values to this function and compare the result to a known-good result. If it passes, then we know that that combination works. Another test case is by putting in random (but plausible) numbers to the function and see if the result could also be plausible or if Python crashes. If it doesn't pass, then we know there's a problem somewhere (this kind of test case is called fuzzing)"
   ]
  },
  {
   "cell_type": "markdown",
   "id": "8f4859e1",
   "metadata": {},
   "source": [
    "# Problem 3"
   ]
  },
  {
   "cell_type": "code",
   "execution_count": 26,
   "id": "9e4dec78",
   "metadata": {},
   "outputs": [
    {
     "name": "stdout",
     "output_type": "stream",
     "text": [
      "Problem 3: Calculate the acceleration for some time/velocity pairs.\n",
      "[0, 10, 20, 30, 40, 50, 60, 70, 80, 90, 100]\n",
      "[0, 100, 200, 300, 400, 500, 600, 700, 800, 900, 1000]\n",
      "200\n",
      "300\n",
      "400\n",
      "700\n",
      "Acceleration over time: \n",
      "0.1\n",
      "0.1\n",
      "0.1\n",
      "[0, 10, 20, 30, 90, 50, 60, 70, 80, 90, 100]\n"
     ]
    }
   ],
   "source": [
    "print( 'Problem 3: Calculate the acceleration for some time/velocity pairs.' )\n",
    "\n",
    "velocity = [0, 10, 20, 30, 40, 50, 60, 70, 80, 90, 100]\n",
    "\n",
    "print( velocity )\n",
    "\n",
    "time = [0, 100, 200, 300, 400, 500, 600, 700, 800, 900, 1000]\n",
    "\n",
    "print( time )\n",
    "\n",
    "print( time[2] )\n",
    "print( time[3] )\n",
    "print( time[4] )\n",
    "print( time[7] )\n",
    "\n",
    "# calc acceleration for each time/velocity pair\n",
    "\n",
    "print( 'Acceleration over time: ')\n",
    "\n",
    "print( acceleration.acceleration(velocity[2], velocity[3], time[2], time[3]) )\n",
    "print( acceleration.acceleration(velocity[3], velocity[4], time[3], time[4]) )\n",
    "print( acceleration.acceleration(velocity[4], velocity[7], time[4], time[7]) )\n",
    "\n",
    "velocity[4] = 90\n",
    "\n",
    "print(velocity)"
   ]
  },
  {
   "cell_type": "markdown",
   "id": "ebd0cc1f",
   "metadata": {},
   "source": [
    "Changing the 5th element of velocity to 90 works because the list is just a collection of variables that we can change willy-nilly, so we are just accessing that variable by singling it out and assigning our new value."
   ]
  }
 ],
 "metadata": {
  "kernelspec": {
   "display_name": "Python 3 (ipykernel)",
   "language": "python",
   "name": "python3"
  },
  "language_info": {
   "codemirror_mode": {
    "name": "ipython",
    "version": 3
   },
   "file_extension": ".py",
   "mimetype": "text/x-python",
   "name": "python",
   "nbconvert_exporter": "python",
   "pygments_lexer": "ipython3",
   "version": "3.11.4"
  }
 },
 "nbformat": 4,
 "nbformat_minor": 5
}
