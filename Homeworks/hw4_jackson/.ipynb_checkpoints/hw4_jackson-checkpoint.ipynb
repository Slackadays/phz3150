{
 "cells": [
  {
   "cell_type": "markdown",
   "id": "0b7587f3",
   "metadata": {},
   "source": [
    "# HW4 Notebook\n",
    "### Name\n",
    "Jackson Huff\n",
    "### Assignment number\n",
    "4\n",
    "### Date\n",
    "Sat Sep  2 02:45:07 PM EDT 2023"
   ]
  },
  {
   "cell_type": "markdown",
   "id": "4d4b234d",
   "metadata": {},
   "source": [
    "# Problem 1"
   ]
  },
  {
   "cell_type": "code",
   "execution_count": null,
   "id": "48bd7755",
   "metadata": {},
   "outputs": [],
   "source": [
    "print( 'Problem 1:' )\n",
    "# calc F for these mass/acc. pairs:\n",
    "# kg, m/s^2\n",
    "# 10, 5\n",
    "# 15, 10\n",
    "# 20, 5\n",
    "# 40, 3\n",
    "\n",
    "def calc_F(mass, acc)\n",
    "    print( \"F = \" + str(mass * acc) )\n",
    "\n",
    "print( 'Object 1: ' )\n",
    "calc_F(10, 5)\n",
    "\n",
    "def force_to_acceleration(mass, force)\n",
    "    \"\"\"Return the acceleration of an object given its mass and the force applied to it.\"\"\"\n",
    "    \n",
    "    "
   ]
  }
 ],
 "metadata": {
  "kernelspec": {
   "display_name": "Python 3 (ipykernel)",
   "language": "python",
   "name": "python3"
  },
  "language_info": {
   "codemirror_mode": {
    "name": "ipython",
    "version": 3
   },
   "file_extension": ".py",
   "mimetype": "text/x-python",
   "name": "python",
   "nbconvert_exporter": "python",
   "pygments_lexer": "ipython3",
   "version": "3.11.4"
  }
 },
 "nbformat": 4,
 "nbformat_minor": 5
}
